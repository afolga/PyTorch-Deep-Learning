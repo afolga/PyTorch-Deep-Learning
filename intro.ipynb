{
 "cells": [
  {
   "cell_type": "markdown",
   "id": "0e23ecf9",
   "metadata": {},
   "source": [
    "\n",
    "# deep learning is good for \n",
    "- problems with long list of rules \n",
    "- continually changing environments \n",
    "- discovering insights within large collections of data "
   ]
  },
  {
   "cell_type": "markdown",
   "id": "3c2f4491",
   "metadata": {},
   "source": [
    "# machine learning:\n",
    "- structured data \n",
    "- ex: XGBoost, random forest, support vector machine "
   ]
  },
  {
   "cell_type": "markdown",
   "id": "f334a6f7",
   "metadata": {},
   "source": [
    "# deep learning:\n",
    "- unstructured data \n",
    "- neural network, CNN, transformer, RNN\n",
    "- ex: neural networks"
   ]
  },
  {
   "cell_type": "markdown",
   "id": "7a331679",
   "metadata": {},
   "source": [
    "# neural networks \n",
    "1) inputs \n",
    "\n",
    "2) numerical encoding\n",
    "\n",
    "3) learns representation: patterns/features/weights\n",
    "\n",
    "4) representation outputs\n",
    "\n",
    "5) outputs "
   ]
  },
  {
   "cell_type": "markdown",
   "id": "70a2894c",
   "metadata": {},
   "source": [
    "# anatomy \n",
    "- input layer \n",
    "- hidden layer \n",
    "- outut layer "
   ]
  },
  {
   "cell_type": "markdown",
   "id": "85ad7678",
   "metadata": {},
   "source": [
    "# types of learning \n",
    "- supervised learning\n",
    "- unsupervised and self-supervised learning \n",
    "- transfer learning \n",
    "- reinforcement learning: environment, agent rewards, actions"
   ]
  },
  {
   "cell_type": "code",
   "execution_count": null,
   "id": "b0d29747",
   "metadata": {},
   "outputs": [],
   "source": []
  }
 ],
 "metadata": {
  "kernelspec": {
   "display_name": "Python 3 (ipykernel)",
   "language": "python",
   "name": "python3"
  },
  "language_info": {
   "codemirror_mode": {
    "name": "ipython",
    "version": 3
   },
   "file_extension": ".py",
   "mimetype": "text/x-python",
   "name": "python",
   "nbconvert_exporter": "python",
   "pygments_lexer": "ipython3",
   "version": "3.9.7"
  }
 },
 "nbformat": 4,
 "nbformat_minor": 5
}
