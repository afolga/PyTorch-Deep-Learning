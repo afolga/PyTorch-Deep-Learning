{
 "cells": [
  {
   "cell_type": "code",
   "execution_count": 2,
   "id": "92de2763",
   "metadata": {},
   "outputs": [],
   "source": [
    "import torch"
   ]
  },
  {
   "cell_type": "code",
   "execution_count": 3,
   "id": "23f8d194",
   "metadata": {},
   "outputs": [],
   "source": [
    "## random tensor with shape (7,7)\n",
    "new_tensor = torch.rand(7,7)"
   ]
  },
  {
   "cell_type": "code",
   "execution_count": 9,
   "id": "a1f62d46",
   "metadata": {},
   "outputs": [
    {
     "name": "stdout",
     "output_type": "stream",
     "text": [
      "tensor([[1.7818],\n",
      "        [1.9170],\n",
      "        [2.5222],\n",
      "        [1.5988],\n",
      "        [1.9288],\n",
      "        [2.2831],\n",
      "        [1.9428]])\n",
      "torch.Size([7, 1])\n"
     ]
    }
   ],
   "source": [
    "## matrix multiplicatio on tensor from previous with another random tensor shape (1,7) \n",
    "another_tensor=torch.rand(1,7)\n",
    "result = torch.matmul(new_tensor, another_tensor.T)\n",
    "print(result)\n",
    "print(result.shape)"
   ]
  },
  {
   "cell_type": "code",
   "execution_count": 11,
   "id": "03dd85e4",
   "metadata": {},
   "outputs": [
    {
     "name": "stdout",
     "output_type": "stream",
     "text": [
      "tensor([[1.7818],\n",
      "        [1.9170],\n",
      "        [2.5222],\n",
      "        [1.5988],\n",
      "        [1.9288],\n",
      "        [2.2831],\n",
      "        [1.9428]])\n"
     ]
    }
   ],
   "source": [
    "RANDOM_SEED=0\n",
    "new_res=torch.matmul(new_tensor, another_tensor.T)\n",
    "print(new_res)"
   ]
  },
  {
   "cell_type": "code",
   "execution_count": null,
   "id": "3ff17e04",
   "metadata": {},
   "outputs": [],
   "source": []
  }
 ],
 "metadata": {
  "kernelspec": {
   "display_name": "Python 3 (ipykernel)",
   "language": "python",
   "name": "python3"
  },
  "language_info": {
   "codemirror_mode": {
    "name": "ipython",
    "version": 3
   },
   "file_extension": ".py",
   "mimetype": "text/x-python",
   "name": "python",
   "nbconvert_exporter": "python",
   "pygments_lexer": "ipython3",
   "version": "3.9.7"
  }
 },
 "nbformat": 4,
 "nbformat_minor": 5
}
