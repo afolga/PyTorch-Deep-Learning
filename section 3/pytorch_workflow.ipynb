{
 "cells": [
  {
   "cell_type": "markdown",
   "id": "f78e4a60",
   "metadata": {},
   "source": [
    "# PyTorch Workflow\n",
    "1) get data ready: turn into tensors \n",
    "\n",
    "2) build or pick a pretrained model to suit your problem \n",
    "- pick a loss function and optimizer \n",
    "- build a training loop\n",
    "\n",
    "3) fit model to the data and make a prediction \n",
    "\n",
    "4) evaluate model \n",
    "\n",
    "5) improve through experimentation\n",
    "\n",
    "6) save and reload model"
   ]
  },
  {
   "cell_type": "code",
   "execution_count": 1,
   "id": "c020cf7a",
   "metadata": {},
   "outputs": [],
   "source": [
    "what_were_covering={\n",
    "    1:\"data (prepare and load)\",\n",
    "    2: \"build model\",\n",
    "    3: \"fitting model to data (training)\",\n",
    "    4: \"model evaluation, making predictions\",\n",
    "    5:\"saving and loading a model\",\n",
    "    6:\"putting it all together\"\n",
    "}"
   ]
  },
  {
   "cell_type": "code",
   "execution_count": 2,
   "id": "5d3ac936",
   "metadata": {},
   "outputs": [
    {
     "data": {
      "text/plain": [
       "'2.1.2+cpu'"
      ]
     },
     "execution_count": 2,
     "metadata": {},
     "output_type": "execute_result"
    }
   ],
   "source": [
    "import torch\n",
    "from torch import nn \n",
    "import numpy as np \n",
    "import matplotlib.pyplot as plt \n",
    "\n",
    "## check pytorch version\n",
    "torch.__version__"
   ]
  },
  {
   "cell_type": "markdown",
   "id": "2d5400bf",
   "metadata": {},
   "source": [
    "## 1) Data: preparing and loading"
   ]
  },
  {
   "cell_type": "markdown",
   "id": "a1db031d",
   "metadata": {},
   "source": [
    "### ML 2 parts\n",
    "1) get data into numerical representation\n",
    "\n",
    "2) build a model, pretrained model to learn patterns in data"
   ]
  },
  {
   "cell_type": "markdown",
   "id": "1f4011cd",
   "metadata": {},
   "source": [
    "### use linear regression formula to make a straight line with known parameters "
   ]
  },
  {
   "cell_type": "code",
   "execution_count": 3,
   "id": "7f978f1f",
   "metadata": {},
   "outputs": [
    {
     "data": {
      "text/plain": [
       "(tensor([[0.0000],\n",
       "         [0.0200],\n",
       "         [0.0400],\n",
       "         [0.0600],\n",
       "         [0.0800],\n",
       "         [0.1000],\n",
       "         [0.1200],\n",
       "         [0.1400],\n",
       "         [0.1600],\n",
       "         [0.1800]]),\n",
       " tensor([[0.3000],\n",
       "         [0.3140],\n",
       "         [0.3280],\n",
       "         [0.3420],\n",
       "         [0.3560],\n",
       "         [0.3700],\n",
       "         [0.3840],\n",
       "         [0.3980],\n",
       "         [0.4120],\n",
       "         [0.4260]]))"
      ]
     },
     "execution_count": 3,
     "metadata": {},
     "output_type": "execute_result"
    }
   ],
   "source": [
    "weight = 0.7\n",
    "bias =0.3\n",
    "\n",
    "## data \n",
    "start =0\n",
    "end =1\n",
    "step =0.02\n",
    "X= torch.arange(start ,end , step).unsqueeze(dim=1)\n",
    "y = weight *X + bias \n",
    "\n",
    "X[:10], y[:10]"
   ]
  },
  {
   "cell_type": "code",
   "execution_count": 4,
   "id": "001b2fe9",
   "metadata": {},
   "outputs": [],
   "source": [
    "#  split data into training and testing sets\n",
    "train_split=int(0.8 * len(X))\n",
    "X_train, y_train= X[:train_split], y[:train_split]\n",
    "X_test, y_test= X[train_split:], y[train_split:]"
   ]
  },
  {
   "cell_type": "code",
   "execution_count": 5,
   "id": "ac89bd95",
   "metadata": {},
   "outputs": [
    {
     "data": {
      "text/plain": [
       "(40, 40)"
      ]
     },
     "execution_count": 5,
     "metadata": {},
     "output_type": "execute_result"
    }
   ],
   "source": [
    "len(X_train), len(y_train)"
   ]
  },
  {
   "cell_type": "code",
   "execution_count": 6,
   "id": "812abb39",
   "metadata": {},
   "outputs": [
    {
     "data": {
      "text/plain": [
       "(10, 10)"
      ]
     },
     "execution_count": 6,
     "metadata": {},
     "output_type": "execute_result"
    }
   ],
   "source": [
    "len(X_test), len(y_test)"
   ]
  },
  {
   "cell_type": "code",
   "execution_count": 7,
   "id": "444b26d4",
   "metadata": {},
   "outputs": [],
   "source": [
    "def plot_predictions(train_data= X_train, \n",
    "                     train_labels= y_train,\n",
    "                     test_data=X_test, \n",
    "                     test_labels=y_test,\n",
    "                     predictions=None):\n",
    "    plt.figure(figsize=(10,7))\n",
    "    plt.scatter(train_data, train_labels, c=\"b\",s=4, label=\"training data\")\n",
    "    plt.scatter(test_data, test_labels, c=\"g\", s=4, label=\"testing data\")\n",
    "    \n",
    "    if predictions is not None: \n",
    "        plt.scatter(test_data, predictions, c=\"r\",s=4, label=predictions)\n",
    "    plt.legend(prop={\"size\":14})"
   ]
  },
  {
   "cell_type": "code",
   "execution_count": 8,
   "id": "ae91a4d9",
   "metadata": {},
   "outputs": [
    {
     "data": {
      "image/png": "[encoded data removed]",
      "text/plain": [
       "<Figure size 720x504 with 1 Axes>"
      ]
     },
     "metadata": {
      "needs_background": "light"
     },
     "output_type": "display_data"
    }
   ],
   "source": [
    "plot_predictions()"
   ]
  },
  {
   "cell_type": "markdown",
   "id": "42068ec5",
   "metadata": {},
   "source": [
    "## what our model does\n",
    "- start with random values (weight and bias)\n",
    "\n",
    "- look at training data and adjust the random values to better represent the ideal values (weight and bias values we used to create the data)\n",
    "\n",
    "## does it by \n",
    "- gradient descent \n",
    "\n",
    "- backpropagation"
   ]
  },
  {
   "cell_type": "code",
   "execution_count": 9,
   "id": "55ecf99f",
   "metadata": {},
   "outputs": [],
   "source": [
    "# linear regression model class\n",
    "\n",
    "class LinearRegressionModel(nn.Module): ## nn contains all building blocks for neural nets\n",
    "    def __init__(self):\n",
    "        super().__init__()\n",
    "        self.weights=nn.Parameter(torch.randn(1, requires_grad= True, dtype=torch.float))\n",
    "        self.bias= nn.Parameter(torch.randn(1, requires_grad=True, dtype=torch.float))\n",
    "    def forward(self, x:torch.Tensor) -> torch.Tensor:\n",
    "        return self.weights * x + self.bias \n",
    "      \n",
    "    "
   ]
  },
  {
   "cell_type": "code",
   "execution_count": 10,
   "id": "f784892d",
   "metadata": {},
   "outputs": [
    {
     "data": {
      "text/plain": [
       "[Parameter containing:\n",
       " tensor([0.3367], requires_grad=True),\n",
       " Parameter containing:\n",
       " tensor([0.1288], requires_grad=True)]"
      ]
     },
     "execution_count": 10,
     "metadata": {},
     "output_type": "execute_result"
    }
   ],
   "source": [
    "## see whats inside model \n",
    "## manual seed \n",
    "torch.manual_seed(42)\n",
    "\n",
    "## creaete model instance \n",
    "model_0= LinearRegressionModel()\n",
    "list(model_0.parameters())"
   ]
  },
  {
   "cell_type": "code",
   "execution_count": 11,
   "id": "dc53ec3b",
   "metadata": {},
   "outputs": [
    {
     "data": {
      "text/plain": [
       "OrderedDict([('weights', tensor([0.3367])), ('bias', tensor([0.1288]))])"
      ]
     },
     "execution_count": 11,
     "metadata": {},
     "output_type": "execute_result"
    }
   ],
   "source": [
    "## List named parameters \n",
    "model_0.state_dict()"
   ]
  },
  {
   "cell_type": "code",
   "execution_count": 12,
   "id": "531786cb",
   "metadata": {},
   "outputs": [
    {
     "data": {
      "text/plain": [
       "(0.7, 0.3)"
      ]
     },
     "execution_count": 12,
     "metadata": {},
     "output_type": "execute_result"
    }
   ],
   "source": [
    "weight, bias "
   ]
  },
  {
   "cell_type": "markdown",
   "id": "225c2e38",
   "metadata": {},
   "source": [
    "## making prediction using torch.inference_mode()\n"
   ]
  },
  {
   "cell_type": "code",
   "execution_count": 13,
   "id": "66086e15",
   "metadata": {},
   "outputs": [
    {
     "data": {
      "text/plain": [
       "tensor([[0.3982],\n",
       "        [0.4049],\n",
       "        [0.4116],\n",
       "        [0.4184],\n",
       "        [0.4251],\n",
       "        [0.4318],\n",
       "        [0.4386],\n",
       "        [0.4453],\n",
       "        [0.4520],\n",
       "        [0.4588]])"
      ]
     },
     "execution_count": 13,
     "metadata": {},
     "output_type": "execute_result"
    }
   ],
   "source": [
    "with torch.inference_mode():\n",
    "    y_preds = model_0(X_test)\n",
    "    \n",
    "with torch.no_grad():\n",
    "    y_preds=model_0(X_test)\n",
    "    \n",
    "y_preds"
   ]
  },
  {
   "cell_type": "code",
   "execution_count": 14,
   "id": "76900f5c",
   "metadata": {},
   "outputs": [
    {
     "data": {
      "text/plain": [
       "tensor([[0.8600],\n",
       "        [0.8740],\n",
       "        [0.8880],\n",
       "        [0.9020],\n",
       "        [0.9160],\n",
       "        [0.9300],\n",
       "        [0.9440],\n",
       "        [0.9580],\n",
       "        [0.9720],\n",
       "        [0.9860]])"
      ]
     },
     "execution_count": 14,
     "metadata": {},
     "output_type": "execute_result"
    }
   ],
   "source": [
    "y_test"
   ]
  },
  {
   "cell_type": "code",
   "execution_count": 15,
   "id": "2c675444",
   "metadata": {},
   "outputs": [
    {
     "data": {
      "image/png": "[encoded data removed]",
      "text/plain": [
       "<Figure size 720x504 with 1 Axes>"
      ]
     },
     "metadata": {
      "needs_background": "light"
     },
     "output_type": "display_data"
    }
   ],
   "source": [
    "plot_predictions(predictions=y_preds)"
   ]
  },
  {
   "cell_type": "markdown",
   "id": "29a05eef",
   "metadata": {},
   "source": [
    "## train model \n",
    "- for model to move from some unknown parameters to some known ones : better representation of the data \n",
    "## one way to measure how poor / wrong models predictions are loss functions\n",
    "- loss functions: measure how wrong your model's predictons are to the ideal outputs, lower is better\n",
    "## for training we need \n",
    "- loss function : MAE, L1\n",
    "\n",
    "- optimizer: takes into account the loss of a model and adjusts the model's parameters"
   ]
  },
  {
   "cell_type": "code",
   "execution_count": 16,
   "id": "596cb013",
   "metadata": {},
   "outputs": [],
   "source": [
    "# set up loss \n",
    "loss_fn = nn.L1Loss()\n",
    "# set up optimizer --> using stochastic gradient descent\n",
    "optimizer = torch.optim.SGD( params=model_0.parameters(), lr=0.01) ##lr very important"
   ]
  },
  {
   "cell_type": "markdown",
   "id": "1a52f016",
   "metadata": {},
   "source": [
    "## building a training loop in pytorch\n",
    "- loop through data \n",
    "\n",
    "- forward pass : forward propagation\n",
    "\n",
    "- calculate loss: compare forward pass predictions to ground truth labels \n",
    "\n",
    "- optimizer zero grad\n",
    "\n",
    "- loss backwards: move backwards through the network to calculate gradients of each of parameters wrt to loss (*back propagation*)\n",
    "\n",
    "- optimizer step: adjust parameters to try and improve loss (*gradient descent*) "
   ]
  },
  {
   "cell_type": "code",
   "execution_count": 18,
   "id": "acd594da",
   "metadata": {},
   "outputs": [
    {
     "name": "stdout",
     "output_type": "stream",
     "text": [
      "Epoch:0 | Loss: 0.31288138031959534| Test Loss:0.48106518387794495\n",
      "OrderedDict([('weights', tensor([0.3406])), ('bias', tensor([0.1388]))])\n",
      "Epoch:10 | Loss: 0.1976713240146637| Test Loss:0.3463551998138428\n",
      "OrderedDict([('weights', tensor([0.3796])), ('bias', tensor([0.2388]))])\n",
      "Epoch:20 | Loss: 0.08908725529909134| Test Loss:0.21729660034179688\n",
      "OrderedDict([('weights', tensor([0.4184])), ('bias', tensor([0.3333]))])\n",
      "Epoch:30 | Loss: 0.053148526698350906| Test Loss:0.14464017748832703\n",
      "OrderedDict([('weights', tensor([0.4512])), ('bias', tensor([0.3768]))])\n",
      "Epoch:40 | Loss: 0.04543796554207802| Test Loss:0.11360953003168106\n",
      "OrderedDict([('weights', tensor([0.4748])), ('bias', tensor([0.3868]))])\n",
      "Epoch:50 | Loss: 0.04167863354086876| Test Loss:0.09919948130846024\n",
      "OrderedDict([('weights', tensor([0.4938])), ('bias', tensor([0.3843]))])\n",
      "Epoch:60 | Loss: 0.03818932920694351| Test Loss:0.08886633068323135\n",
      "OrderedDict([('weights', tensor([0.5116])), ('bias', tensor([0.3788]))])\n",
      "Epoch:70 | Loss: 0.03476089984178543| Test Loss:0.0805937647819519\n",
      "OrderedDict([('weights', tensor([0.5288])), ('bias', tensor([0.3718]))])\n",
      "Epoch:80 | Loss: 0.03132382780313492| Test Loss:0.07232122868299484\n",
      "OrderedDict([('weights', tensor([0.5459])), ('bias', tensor([0.3648]))])\n",
      "Epoch:90 | Loss: 0.02788739837706089| Test Loss:0.06473556160926819\n",
      "OrderedDict([('weights', tensor([0.5629])), ('bias', tensor([0.3573]))])\n",
      "Epoch:100 | Loss: 0.024458957836031914| Test Loss:0.05646304413676262\n",
      "OrderedDict([('weights', tensor([0.5800])), ('bias', tensor([0.3503]))])\n",
      "Epoch:110 | Loss: 0.021020207554101944| Test Loss:0.04819049686193466\n",
      "OrderedDict([('weights', tensor([0.5972])), ('bias', tensor([0.3433]))])\n",
      "Epoch:120 | Loss: 0.01758546568453312| Test Loss:0.04060482233762741\n",
      "OrderedDict([('weights', tensor([0.6141])), ('bias', tensor([0.3358]))])\n",
      "Epoch:130 | Loss: 0.014155393466353416| Test Loss:0.03233227878808975\n",
      "OrderedDict([('weights', tensor([0.6313])), ('bias', tensor([0.3288]))])\n",
      "Epoch:140 | Loss: 0.010716589167714119| Test Loss:0.024059748277068138\n",
      "OrderedDict([('weights', tensor([0.6485])), ('bias', tensor([0.3218]))])\n",
      "Epoch:150 | Loss: 0.0072835334576666355| Test Loss:0.016474086791276932\n",
      "OrderedDict([('weights', tensor([0.6654])), ('bias', tensor([0.3143]))])\n",
      "Epoch:160 | Loss: 0.0038517764769494534| Test Loss:0.008201557211577892\n",
      "OrderedDict([('weights', tensor([0.6826])), ('bias', tensor([0.3073]))])\n",
      "Epoch:170 | Loss: 0.008932482451200485| Test Loss:0.005023092031478882\n",
      "OrderedDict([('weights', tensor([0.6951])), ('bias', tensor([0.2993]))])\n",
      "Epoch:180 | Loss: 0.008932482451200485| Test Loss:0.005023092031478882\n",
      "OrderedDict([('weights', tensor([0.6951])), ('bias', tensor([0.2993]))])\n",
      "Epoch:190 | Loss: 0.008932482451200485| Test Loss:0.005023092031478882\n",
      "OrderedDict([('weights', tensor([0.6951])), ('bias', tensor([0.2993]))])\n"
     ]
    }
   ],
   "source": [
    "## epochs - 1 loop through data \n",
    "epochs= 200\n",
    "epoch_count=[]\n",
    "loss_values=[]\n",
    "test_loss_values=[]\n",
    "# loop through data \n",
    "for epoch in range(epochs):\n",
    "    model_0.train()\n",
    "    ## forward pass\n",
    "    y_pred= model_0(X_train)\n",
    "    \n",
    "    ## loss : using MAE\n",
    "    loss=loss_fn(y_pred, y_train)\n",
    "    #print(f\"Loss:{loss}\")\n",
    "    ## optimizer zero grad \n",
    "    optimizer.zero_grad()\n",
    "    \n",
    "    ## back propagation on loss wrt parameters to model\n",
    "    loss.backward()\n",
    "    \n",
    "    ## step optimizer - perform gradient descent \n",
    "    optimizer.step() ## how optimzer changes by default through loop \n",
    "    \n",
    "    model_0.eval() # turns off gradient tracking\n",
    "    with torch.inference_mode(): ## turns off graient tracking\n",
    "        test_pred =model_0(X_test)\n",
    "        test_loss=loss_fn(test_pred, y_test)\n",
    "    if epoch % 10==0:    \n",
    "        epoch_count.append(epoch)\n",
    "        loss_values.append(loss)\n",
    "        test_loss_values.append(test_loss)\n",
    "        print(f\"Epoch:{epoch} | Loss: {loss}| Test Loss:{test_loss}\")\n",
    "        print(model_0.state_dict())"
   ]
  },
  {
   "cell_type": "code",
   "execution_count": 19,
   "id": "1299a799",
   "metadata": {},
   "outputs": [
    {
     "data": {
      "text/plain": [
       "<matplotlib.legend.Legend at 0x1f55dd08850>"
      ]
     },
     "execution_count": 19,
     "metadata": {},
     "output_type": "execute_result"
    },
    {
     "data": {
      "image/png": "[encoded data removed]",
      "text/plain": [
       "<Figure size 432x288 with 1 Axes>"
      ]
     },
     "metadata": {
      "needs_background": "light"
     },
     "output_type": "display_data"
    }
   ],
   "source": [
    "plt.plot(epoch_count, np.array(torch.tensor(loss_values).numpy()), label=\"train loss\")\n",
    "plt.plot(epoch_count,np.array(torch.tensor(test_loss_values).cpu().numpy()), label=\"test loss\")\n",
    "plt.title(\"training and test loss curves\")\n",
    "plt.ylabel(\"loss\")\n",
    "plt.xlabel(\"runtime\")\n",
    "plt.legend()"
   ]
  },
  {
   "cell_type": "markdown",
   "id": "4a21609f",
   "metadata": {},
   "source": [
    "## saving a model in pytorch\n",
    "- torch.save()\n",
    "\n",
    "- torch.load()\n",
    "\n",
    "- torch.nn.Module.load_state_dict()"
   ]
  },
  {
   "cell_type": "code",
   "execution_count": 22,
   "id": "e06106ee",
   "metadata": {},
   "outputs": [],
   "source": [
    "from pathlib import Path\n",
    "MODEL_PATH=Path(\"models\")\n",
    "MODEL_PATH.mkdir(parents=True, exist_ok=True)\n",
    "\n",
    "MODEL_NAME=\"01_pytorch_workflow_model_0.pth\"\n",
    "MODEL_SAVE_PATH=MODEL_PATH/MODEL_NAME\n",
    "\n",
    "\n",
    "# save state_dict\n",
    "torch.save(obj=model_0.state_dict(),f=MODEL_SAVE_PATH)\n"
   ]
  },
  {
   "cell_type": "code",
   "execution_count": 24,
   "id": "8f3eb5d2",
   "metadata": {},
   "outputs": [
    {
     "data": {
      "text/plain": [
       "<All keys matched successfully>"
      ]
     },
     "execution_count": 24,
     "metadata": {},
     "output_type": "execute_result"
    }
   ],
   "source": [
    "## to load in a saved state_dict, have to instantiate a new instance of our model class\n",
    "loaded_model_0=LinearRegressionModel()\n",
    "# load saved state dict of model_0\n",
    "\n",
    "loaded_model_0.load_state_dict(torch.load(f=MODEL_SAVE_PATH))"
   ]
  },
  {
   "cell_type": "code",
   "execution_count": 25,
   "id": "b9909639",
   "metadata": {},
   "outputs": [
    {
     "data": {
      "text/plain": [
       "tensor([[0.8685],\n",
       "        [0.8825],\n",
       "        [0.8965],\n",
       "        [0.9105],\n",
       "        [0.9245],\n",
       "        [0.9384],\n",
       "        [0.9524],\n",
       "        [0.9664],\n",
       "        [0.9804],\n",
       "        [0.9944]])"
      ]
     },
     "execution_count": 25,
     "metadata": {},
     "output_type": "execute_result"
    }
   ],
   "source": [
    "## make predictions\n",
    "loaded_model_0.eval()\n",
    "with torch.inference_mode():\n",
    "    loaded_model_preds=loaded_model_0(X_test)\n",
    "    \n",
    "loaded_model_preds"
   ]
  },
  {
   "cell_type": "code",
   "execution_count": 27,
   "id": "9b33d74c",
   "metadata": {},
   "outputs": [
    {
     "data": {
      "text/plain": [
       "tensor([[0.8685],\n",
       "        [0.8825],\n",
       "        [0.8965],\n",
       "        [0.9105],\n",
       "        [0.9245],\n",
       "        [0.9384],\n",
       "        [0.9524],\n",
       "        [0.9664],\n",
       "        [0.9804],\n",
       "        [0.9944]])"
      ]
     },
     "execution_count": 27,
     "metadata": {},
     "output_type": "execute_result"
    }
   ],
   "source": [
    "model_0.eval()\n",
    "with torch.inference_mode():\n",
    "    y_preds=model_0(X_test)\n",
    "\n",
    "y_preds"
   ]
  },
  {
   "cell_type": "code",
   "execution_count": 28,
   "id": "bba93c9c",
   "metadata": {},
   "outputs": [
    {
     "data": {
      "text/plain": [
       "tensor([[True],\n",
       "        [True],\n",
       "        [True],\n",
       "        [True],\n",
       "        [True],\n",
       "        [True],\n",
       "        [True],\n",
       "        [True],\n",
       "        [True],\n",
       "        [True]])"
      ]
     },
     "execution_count": 28,
     "metadata": {},
     "output_type": "execute_result"
    }
   ],
   "source": [
    "y_preds== loaded_model_preds"
   ]
  },
  {
   "cell_type": "markdown",
   "id": "e891341b",
   "metadata": {},
   "source": [
    "### putting it all together "
   ]
  },
  {
   "cell_type": "code",
   "execution_count": null,
   "id": "dee008f3",
   "metadata": {},
   "outputs": [],
   "source": []
  }
 ],
 "metadata": {
  "kernelspec": {
   "display_name": "Python 3 (ipykernel)",
   "language": "python",
   "name": "python3"
  },
  "language_info": {
   "codemirror_mode": {
    "name": "ipython",
    "version": 3
   },
   "file_extension": ".py",
   "mimetype": "text/x-python",
   "name": "python",
   "nbconvert_exporter": "python",
   "pygments_lexer": "ipython3",
   "version": "3.9.7"
  }
 },
 "nbformat": 4,
 "nbformat_minor": 5
}
